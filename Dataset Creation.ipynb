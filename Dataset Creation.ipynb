{
 "cells": [
  {
   "cell_type": "markdown",
   "id": "e1350743",
   "metadata": {},
   "source": [
    "# Importing Libraries"
   ]
  },
  {
   "cell_type": "code",
   "execution_count": 1,
   "id": "c34092f4",
   "metadata": {},
   "outputs": [],
   "source": [
    "import imutils\n",
    "import time\n",
    "import cv2\n",
    "import csv\n",
    "import os"
   ]
  },
  {
   "cell_type": "code",
   "execution_count": 2,
   "id": "c5b918d4",
   "metadata": {},
   "outputs": [],
   "source": [
    "cascade = \"haarcascade_frontalface_default.xml\"\n",
    "detector = cv2.CascadeClassifier(cascade)"
   ]
  },
  {
   "cell_type": "code",
   "execution_count": null,
   "id": "3eae7c27",
   "metadata": {},
   "outputs": [
    {
     "name": "stdout",
     "output_type": "stream",
     "text": [
      "Enter your Name: Dipak\n"
     ]
    }
   ],
   "source": [
    "Name = str(input(\"Enter your Name: \"))\n",
    "Roll_Number = int(input(\"Enter your Roll_Number: \"))\n",
    "dataset = r\"C:\\Users\\HP.DESKTOP-5IHNLMQ\\Desktop\\VS code\\Dataset\"\n",
    "sub_data = Name\n",
    "path = os.path.join(dataset, sub_data)\n",
    "\n",
    "if not os.path.isdir(path):\n",
    "    os.mkdir(path)\n",
    "    print(sub_data)\n",
    "    \n",
    "info = [str(Name), str(Roll_Number)]\n",
    "\n",
    "with open('Student.csv', 'a') as csvFile:\n",
    "    write = csv.writer(csvFile)\n",
    "    write.writerow(info)\n",
    "csvFile.close()\n",
    "\n",
    "print('Starting video stream...')\n",
    "cam = cv2.VideoCapture(0)\n",
    "time.sleep(2.0)\n",
    "total = 0\n",
    "\n",
    "while total < 100:\n",
    "    _,frame = cam.read()\n",
    "    img = imutils.resize(frame, width=400)\n",
    "    rects = detector.detectMultiScale(cv2.cvtColor(img, cv2.COLOR_BGR2GRAY), \n",
    "                                     scaleFactor =1.1, minNeighbors=5, minSize=(30,30))\n",
    "    \n",
    "    for (x, y, w, h) in rects:\n",
    "        cv2.rectangle(frame, (x,y), (x+w, y+h), (0,255,0), 2)\n",
    "        p = os.path.sep.join([path, \"{}.png\".format(str(total).zfill(5))])\n",
    "        cv2.imwrite(p, img)\n",
    "        total += 1\n",
    "        \n",
    "    cv2.imshow(\"Frame\", frame)\n",
    "    key = cv2.waitKey(1) & 0xFF\n",
    "    if key == ord(\"q\"):\n",
    "        break\n",
    "        \n",
    "cam.release()\n",
    "cv2.destroyAllWindows()"
   ]
  },
  {
   "cell_type": "code",
   "execution_count": null,
   "id": "7d09f926",
   "metadata": {},
   "outputs": [],
   "source": []
  },
  {
   "cell_type": "code",
   "execution_count": null,
   "id": "efa00aac",
   "metadata": {},
   "outputs": [],
   "source": []
  }
 ],
 "metadata": {
  "kernelspec": {
   "display_name": "Python 3 (ipykernel)",
   "language": "python",
   "name": "python3"
  },
  "language_info": {
   "codemirror_mode": {
    "name": "ipython",
    "version": 3
   },
   "file_extension": ".py",
   "mimetype": "text/x-python",
   "name": "python",
   "nbconvert_exporter": "python",
   "pygments_lexer": "ipython3",
   "version": "3.9.13"
  }
 },
 "nbformat": 4,
 "nbformat_minor": 5
}
