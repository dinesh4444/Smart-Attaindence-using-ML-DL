{
 "cells": [
  {
   "cell_type": "markdown",
   "id": "61e94486",
   "metadata": {},
   "source": [
    "# Importing Libraries"
   ]
  },
  {
   "cell_type": "code",
   "execution_count": 1,
   "id": "2c4b93cb",
   "metadata": {},
   "outputs": [],
   "source": [
    "from sklearn.preprocessing import LabelEncoder\n",
    "from sklearn.svm import SVC\n",
    "import pickle"
   ]
  },
  {
   "cell_type": "code",
   "execution_count": 2,
   "id": "8d965fa1",
   "metadata": {},
   "outputs": [
    {
     "name": "stdout",
     "output_type": "stream",
     "text": [
      "Loading face embeddings....\n",
      "Encoding labels....\n",
      "Training model....\n"
     ]
    }
   ],
   "source": [
    "#initializaing of embedding and recognizer\n",
    "embeddingFile = \"output/embeddings.pickle\"\n",
    "\n",
    "#New and Empty at initial \n",
    "recognizerFile = \"output/recognizer.pickle\"\n",
    "labelEncFile = \"output/le.pickle\"\n",
    "\n",
    "print(\"Loading face embeddings....\")\n",
    "data = pickle.loads(open(embeddingFile, 'rb').read())\n",
    "\n",
    "print(\"Encoding labels....\")\n",
    "labelEnc = LabelEncoder()\n",
    "labels = labelEnc.fit_transform(data['names'])\n",
    "\n",
    "print(\"Training model....\")\n",
    "recognizer = SVC(C=1.0, kernel='linear', probability=True)\n",
    "recognizer.fit(data['embeddings'], labels)\n",
    "\n",
    "f = open(recognizerFile, 'wb')\n",
    "f.write(pickle.dumps(recognizer))\n",
    "f.close()\n",
    "\n",
    "f = open(labelEncFile, 'wb')\n",
    "f.write(pickle.dumps(labelEnc))\n",
    "f.close()"
   ]
  },
  {
   "cell_type": "code",
   "execution_count": null,
   "id": "e5885537",
   "metadata": {},
   "outputs": [],
   "source": []
  }
 ],
 "metadata": {
  "kernelspec": {
   "display_name": "Python 3 (ipykernel)",
   "language": "python",
   "name": "python3"
  },
  "language_info": {
   "codemirror_mode": {
    "name": "ipython",
    "version": 3
   },
   "file_extension": ".py",
   "mimetype": "text/x-python",
   "name": "python",
   "nbconvert_exporter": "python",
   "pygments_lexer": "ipython3",
   "version": "3.9.13"
  }
 },
 "nbformat": 4,
 "nbformat_minor": 5
}
